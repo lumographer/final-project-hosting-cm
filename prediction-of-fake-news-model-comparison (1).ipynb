{
 "cells": [
  {
   "cell_type": "code",
   "execution_count": 1,
   "metadata": {
    "_cell_guid": "b1076dfc-b9ad-4769-8c92-a6c4dae69d19",
    "_kg_hide-input": true,
    "_kg_hide-output": true,
    "_uuid": "8f2839f25d086af736a60e9eeb907d3b93b6e0e5",
    "execution": {
     "iopub.execute_input": "2023-09-25T03:03:57.452767Z",
     "iopub.status.busy": "2023-09-25T03:03:57.452370Z",
     "iopub.status.idle": "2023-09-25T03:03:57.489501Z",
     "shell.execute_reply": "2023-09-25T03:03:57.488485Z",
     "shell.execute_reply.started": "2023-09-25T03:03:57.452668Z"
    }
   },
   "outputs": [
    {
     "name": "stdout",
     "output_type": "stream",
     "text": [
      "/kaggle/input/fake-news/submit.csv\n",
      "/kaggle/input/fake-news/train.csv\n",
      "/kaggle/input/fake-news/test.csv\n"
     ]
    }
   ],
   "source": [
    "# This Python 3 environment comes with many helpful analytics libraries installed\n",
    "# It is defined by the kaggle/python Docker image: https://github.com/kaggle/docker-python\n",
    "# For example, here's several helpful packages to load\n",
    "\n",
    "import numpy as np # linear algebra\n",
    "import pandas as pd # data processing, CSV file I/O (e.g. pd.read_csv)\n",
    "\n",
    "# Input data files are available in the read-only \"../input/\" directory\n",
    "# For example, running this (by clicking run or pressing Shift+Enter) will list all files under the input directory\n",
    "\n",
    "import os\n",
    "for dirname, _, filenames in os.walk('/kaggle/input'):\n",
    "    for filename in filenames:\n",
    "        print(os.path.join(dirname, filename))\n",
    "\n",
    "# You can write up to 20GB to the current directory (/kaggle/working/) that gets preserved as output when you create a version using \"Save & Run All\" \n",
    "# You can also write temporary files to /kaggle/temp/, but they won't be saved outside of the current session"
   ]
  },
  {
   "cell_type": "markdown",
   "metadata": {},
   "source": []
  },
  {
   "cell_type": "markdown",
   "metadata": {
    "execution": {
     "iopub.execute_input": "2022-01-30T01:24:45.526955Z",
     "iopub.status.busy": "2022-01-30T01:24:45.526689Z",
     "iopub.status.idle": "2022-01-30T01:24:45.532773Z",
     "shell.execute_reply": "2022-01-30T01:24:45.53165Z",
     "shell.execute_reply.started": "2022-01-30T01:24:45.526921Z"
    }
   },
   "source": [
    "**IMPORTING LIBRARIES**"
   ]
  },
  {
   "cell_type": "code",
   "execution_count": 2,
   "metadata": {
    "execution": {
     "iopub.execute_input": "2023-09-25T03:03:57.491815Z",
     "iopub.status.busy": "2023-09-25T03:03:57.491211Z",
     "iopub.status.idle": "2023-09-25T03:03:59.368601Z",
     "shell.execute_reply": "2023-09-25T03:03:59.367537Z",
     "shell.execute_reply.started": "2023-09-25T03:03:57.491779Z"
    }
   },
   "outputs": [],
   "source": [
    "import numpy as np\n",
    "import pandas as pd\n",
    "import re\n",
    "import nltk\n",
    "from nltk.corpus import stopwords\n",
    "from nltk.stem.porter import PorterStemmer\n",
    "from sklearn.feature_extraction.text import TfidfVectorizer\n",
    "from sklearn.model_selection import train_test_split\n",
    "from sklearn.linear_model import LogisticRegression\n",
    "from sklearn.metrics import accuracy_score\n",
    "from nltk.stem.porter import PorterStemmer\n",
    "from sklearn.metrics import confusion_matrix\n",
    "from sklearn.metrics import classification_report"
   ]
  },
  {
   "cell_type": "code",
   "execution_count": 3,
   "metadata": {
    "execution": {
     "iopub.execute_input": "2023-09-25T03:03:59.369984Z",
     "iopub.status.busy": "2023-09-25T03:03:59.369753Z",
     "iopub.status.idle": "2023-09-25T03:04:19.422872Z",
     "shell.execute_reply": "2023-09-25T03:04:19.421824Z",
     "shell.execute_reply.started": "2023-09-25T03:03:59.369953Z"
    }
   },
   "outputs": [
    {
     "name": "stdout",
     "output_type": "stream",
     "text": [
      "[nltk_data] Error loading stopwords: <urlopen error [Errno -3]\n",
      "[nltk_data]     Temporary failure in name resolution>\n"
     ]
    },
    {
     "data": {
      "text/plain": [
       "False"
      ]
     },
     "execution_count": 3,
     "metadata": {},
     "output_type": "execute_result"
    }
   ],
   "source": [
    "nltk.download('stopwords')"
   ]
  },
  {
   "cell_type": "code",
   "execution_count": 4,
   "metadata": {
    "_kg_hide-output": true,
    "execution": {
     "iopub.execute_input": "2023-09-25T03:04:19.425110Z",
     "iopub.status.busy": "2023-09-25T03:04:19.424832Z",
     "iopub.status.idle": "2023-09-25T03:04:19.436921Z",
     "shell.execute_reply": "2023-09-25T03:04:19.435974Z",
     "shell.execute_reply.started": "2023-09-25T03:04:19.425075Z"
    }
   },
   "outputs": [
    {
     "name": "stdout",
     "output_type": "stream",
     "text": [
      "['i', 'me', 'my', 'myself', 'we', 'our', 'ours', 'ourselves', 'you', \"you're\", \"you've\", \"you'll\", \"you'd\", 'your', 'yours', 'yourself', 'yourselves', 'he', 'him', 'his', 'himself', 'she', \"she's\", 'her', 'hers', 'herself', 'it', \"it's\", 'its', 'itself', 'they', 'them', 'their', 'theirs', 'themselves', 'what', 'which', 'who', 'whom', 'this', 'that', \"that'll\", 'these', 'those', 'am', 'is', 'are', 'was', 'were', 'be', 'been', 'being', 'have', 'has', 'had', 'having', 'do', 'does', 'did', 'doing', 'a', 'an', 'the', 'and', 'but', 'if', 'or', 'because', 'as', 'until', 'while', 'of', 'at', 'by', 'for', 'with', 'about', 'against', 'between', 'into', 'through', 'during', 'before', 'after', 'above', 'below', 'to', 'from', 'up', 'down', 'in', 'out', 'on', 'off', 'over', 'under', 'again', 'further', 'then', 'once', 'here', 'there', 'when', 'where', 'why', 'how', 'all', 'any', 'both', 'each', 'few', 'more', 'most', 'other', 'some', 'such', 'no', 'nor', 'not', 'only', 'own', 'same', 'so', 'than', 'too', 'very', 's', 't', 'can', 'will', 'just', 'don', \"don't\", 'should', \"should've\", 'now', 'd', 'll', 'm', 'o', 're', 've', 'y', 'ain', 'aren', \"aren't\", 'couldn', \"couldn't\", 'didn', \"didn't\", 'doesn', \"doesn't\", 'hadn', \"hadn't\", 'hasn', \"hasn't\", 'haven', \"haven't\", 'isn', \"isn't\", 'ma', 'mightn', \"mightn't\", 'mustn', \"mustn't\", 'needn', \"needn't\", 'shan', \"shan't\", 'shouldn', \"shouldn't\", 'wasn', \"wasn't\", 'weren', \"weren't\", 'won', \"won't\", 'wouldn', \"wouldn't\"]\n"
     ]
    }
   ],
   "source": [
    "# printing the stopwords in English\n",
    "print(stopwords.words('english'))"
   ]
  },
  {
   "cell_type": "markdown",
   "metadata": {},
   "source": [
    "**PRE PROCESSING OF DATA**"
   ]
  },
  {
   "cell_type": "code",
   "execution_count": 5,
   "metadata": {
    "execution": {
     "iopub.execute_input": "2023-09-25T03:04:19.438643Z",
     "iopub.status.busy": "2023-09-25T03:04:19.437965Z",
     "iopub.status.idle": "2023-09-25T03:04:22.376572Z",
     "shell.execute_reply": "2023-09-25T03:04:22.375481Z",
     "shell.execute_reply.started": "2023-09-25T03:04:19.438606Z"
    }
   },
   "outputs": [
    {
     "data": {
      "text/html": [
       "<div>\n",
       "<style scoped>\n",
       "    .dataframe tbody tr th:only-of-type {\n",
       "        vertical-align: middle;\n",
       "    }\n",
       "\n",
       "    .dataframe tbody tr th {\n",
       "        vertical-align: top;\n",
       "    }\n",
       "\n",
       "    .dataframe thead th {\n",
       "        text-align: right;\n",
       "    }\n",
       "</style>\n",
       "<table border=\"1\" class=\"dataframe\">\n",
       "  <thead>\n",
       "    <tr style=\"text-align: right;\">\n",
       "      <th></th>\n",
       "      <th>id</th>\n",
       "      <th>title</th>\n",
       "      <th>author</th>\n",
       "      <th>text</th>\n",
       "      <th>label</th>\n",
       "    </tr>\n",
       "  </thead>\n",
       "  <tbody>\n",
       "    <tr>\n",
       "      <th>0</th>\n",
       "      <td>0</td>\n",
       "      <td>House Dem Aide: We Didn’t Even See Comey’s Let...</td>\n",
       "      <td>Darrell Lucus</td>\n",
       "      <td>House Dem Aide: We Didn’t Even See Comey’s Let...</td>\n",
       "      <td>1</td>\n",
       "    </tr>\n",
       "    <tr>\n",
       "      <th>1</th>\n",
       "      <td>1</td>\n",
       "      <td>FLYNN: Hillary Clinton, Big Woman on Campus - ...</td>\n",
       "      <td>Daniel J. Flynn</td>\n",
       "      <td>Ever get the feeling your life circles the rou...</td>\n",
       "      <td>0</td>\n",
       "    </tr>\n",
       "    <tr>\n",
       "      <th>2</th>\n",
       "      <td>2</td>\n",
       "      <td>Why the Truth Might Get You Fired</td>\n",
       "      <td>Consortiumnews.com</td>\n",
       "      <td>Why the Truth Might Get You Fired October 29, ...</td>\n",
       "      <td>1</td>\n",
       "    </tr>\n",
       "    <tr>\n",
       "      <th>3</th>\n",
       "      <td>3</td>\n",
       "      <td>15 Civilians Killed In Single US Airstrike Hav...</td>\n",
       "      <td>Jessica Purkiss</td>\n",
       "      <td>Videos 15 Civilians Killed In Single US Airstr...</td>\n",
       "      <td>1</td>\n",
       "    </tr>\n",
       "    <tr>\n",
       "      <th>4</th>\n",
       "      <td>4</td>\n",
       "      <td>Iranian woman jailed for fictional unpublished...</td>\n",
       "      <td>Howard Portnoy</td>\n",
       "      <td>Print \\nAn Iranian woman has been sentenced to...</td>\n",
       "      <td>1</td>\n",
       "    </tr>\n",
       "  </tbody>\n",
       "</table>\n",
       "</div>"
      ],
      "text/plain": [
       "   id                                              title              author  \\\n",
       "0   0  House Dem Aide: We Didn’t Even See Comey’s Let...       Darrell Lucus   \n",
       "1   1  FLYNN: Hillary Clinton, Big Woman on Campus - ...     Daniel J. Flynn   \n",
       "2   2                  Why the Truth Might Get You Fired  Consortiumnews.com   \n",
       "3   3  15 Civilians Killed In Single US Airstrike Hav...     Jessica Purkiss   \n",
       "4   4  Iranian woman jailed for fictional unpublished...      Howard Portnoy   \n",
       "\n",
       "                                                text  label  \n",
       "0  House Dem Aide: We Didn’t Even See Comey’s Let...      1  \n",
       "1  Ever get the feeling your life circles the rou...      0  \n",
       "2  Why the Truth Might Get You Fired October 29, ...      1  \n",
       "3  Videos 15 Civilians Killed In Single US Airstr...      1  \n",
       "4  Print \\nAn Iranian woman has been sentenced to...      1  "
      ]
     },
     "execution_count": 5,
     "metadata": {},
     "output_type": "execute_result"
    }
   ],
   "source": [
    "news_data = pd.read_csv('/kaggle/input/fake-news/train.csv')\n",
    "news_data.head()"
   ]
  },
  {
   "cell_type": "code",
   "execution_count": 6,
   "metadata": {
    "execution": {
     "iopub.execute_input": "2023-09-25T03:04:22.378520Z",
     "iopub.status.busy": "2023-09-25T03:04:22.378129Z",
     "iopub.status.idle": "2023-09-25T03:04:22.385889Z",
     "shell.execute_reply": "2023-09-25T03:04:22.384884Z",
     "shell.execute_reply.started": "2023-09-25T03:04:22.378467Z"
    }
   },
   "outputs": [
    {
     "data": {
      "text/plain": [
       "(20800, 5)"
      ]
     },
     "execution_count": 6,
     "metadata": {},
     "output_type": "execute_result"
    }
   ],
   "source": [
    "news_data.shape"
   ]
  },
  {
   "cell_type": "code",
   "execution_count": 7,
   "metadata": {
    "execution": {
     "iopub.execute_input": "2023-09-25T03:04:22.387310Z",
     "iopub.status.busy": "2023-09-25T03:04:22.387014Z",
     "iopub.status.idle": "2023-09-25T03:04:22.420957Z",
     "shell.execute_reply": "2023-09-25T03:04:22.419921Z",
     "shell.execute_reply.started": "2023-09-25T03:04:22.387275Z"
    }
   },
   "outputs": [
    {
     "data": {
      "text/plain": [
       "id           0\n",
       "title      558\n",
       "author    1957\n",
       "text        39\n",
       "label        0\n",
       "dtype: int64"
      ]
     },
     "execution_count": 7,
     "metadata": {},
     "output_type": "execute_result"
    }
   ],
   "source": [
    "# counting the number of missing values in the dataset\n",
    "news_data.isnull().sum()"
   ]
  },
  {
   "cell_type": "code",
   "execution_count": 8,
   "metadata": {
    "execution": {
     "iopub.execute_input": "2023-09-25T03:04:22.422997Z",
     "iopub.status.busy": "2023-09-25T03:04:22.422105Z",
     "iopub.status.idle": "2023-09-25T03:04:22.442199Z",
     "shell.execute_reply": "2023-09-25T03:04:22.440982Z",
     "shell.execute_reply.started": "2023-09-25T03:04:22.422956Z"
    }
   },
   "outputs": [],
   "source": [
    "# replacing the null values with empty string\n",
    "news_data = news_data.fillna('')"
   ]
  },
  {
   "cell_type": "code",
   "execution_count": 9,
   "metadata": {
    "execution": {
     "iopub.execute_input": "2023-09-25T03:04:22.444387Z",
     "iopub.status.busy": "2023-09-25T03:04:22.443884Z",
     "iopub.status.idle": "2023-09-25T03:04:22.472870Z",
     "shell.execute_reply": "2023-09-25T03:04:22.471814Z",
     "shell.execute_reply.started": "2023-09-25T03:04:22.444326Z"
    }
   },
   "outputs": [
    {
     "data": {
      "text/plain": [
       "id        0\n",
       "title     0\n",
       "author    0\n",
       "text      0\n",
       "label     0\n",
       "dtype: int64"
      ]
     },
     "execution_count": 9,
     "metadata": {},
     "output_type": "execute_result"
    }
   ],
   "source": [
    "# checking the number of missing values in the dataset\n",
    "news_data.isnull().sum()"
   ]
  },
  {
   "cell_type": "code",
   "execution_count": 10,
   "metadata": {
    "execution": {
     "iopub.execute_input": "2023-09-25T03:04:22.478461Z",
     "iopub.status.busy": "2023-09-25T03:04:22.477937Z",
     "iopub.status.idle": "2023-09-25T03:04:22.503469Z",
     "shell.execute_reply": "2023-09-25T03:04:22.502313Z",
     "shell.execute_reply.started": "2023-09-25T03:04:22.478416Z"
    }
   },
   "outputs": [],
   "source": [
    "# merging the author name and news title\n",
    "news_data['content'] = news_data['author']+' '+news_data['title']"
   ]
  },
  {
   "cell_type": "code",
   "execution_count": 11,
   "metadata": {
    "execution": {
     "iopub.execute_input": "2023-09-25T03:04:22.505834Z",
     "iopub.status.busy": "2023-09-25T03:04:22.505023Z",
     "iopub.status.idle": "2023-09-25T03:04:22.512986Z",
     "shell.execute_reply": "2023-09-25T03:04:22.512205Z",
     "shell.execute_reply.started": "2023-09-25T03:04:22.505778Z"
    }
   },
   "outputs": [
    {
     "name": "stdout",
     "output_type": "stream",
     "text": [
      "0        Darrell Lucus House Dem Aide: We Didn’t Even S...\n",
      "1        Daniel J. Flynn FLYNN: Hillary Clinton, Big Wo...\n",
      "2        Consortiumnews.com Why the Truth Might Get You...\n",
      "3        Jessica Purkiss 15 Civilians Killed In Single ...\n",
      "4        Howard Portnoy Iranian woman jailed for fictio...\n",
      "                               ...                        \n",
      "20795    Jerome Hudson Rapper T.I.: Trump a ’Poster Chi...\n",
      "20796    Benjamin Hoffman N.F.L. Playoffs: Schedule, Ma...\n",
      "20797    Michael J. de la Merced and Rachel Abrams Macy...\n",
      "20798    Alex Ansary NATO, Russia To Hold Parallel Exer...\n",
      "20799              David Swanson What Keeps the F-35 Alive\n",
      "Name: content, Length: 20800, dtype: object\n"
     ]
    }
   ],
   "source": [
    "print(news_data['content'])"
   ]
  },
  {
   "cell_type": "code",
   "execution_count": 12,
   "metadata": {
    "execution": {
     "iopub.execute_input": "2023-09-25T03:04:22.514717Z",
     "iopub.status.busy": "2023-09-25T03:04:22.514304Z",
     "iopub.status.idle": "2023-09-25T03:04:22.543799Z",
     "shell.execute_reply": "2023-09-25T03:04:22.542864Z",
     "shell.execute_reply.started": "2023-09-25T03:04:22.514682Z"
    }
   },
   "outputs": [],
   "source": [
    "# separating the data & label\n",
    "\n",
    "## Get the Independent Features\n",
    "X = news_data.drop(columns='label', axis=1)\n",
    "## Get the Dependent features\n",
    "Y = news_data['label']"
   ]
  },
  {
   "cell_type": "code",
   "execution_count": 13,
   "metadata": {
    "execution": {
     "iopub.execute_input": "2023-09-25T03:04:22.545639Z",
     "iopub.status.busy": "2023-09-25T03:04:22.545204Z",
     "iopub.status.idle": "2023-09-25T03:04:22.557250Z",
     "shell.execute_reply": "2023-09-25T03:04:22.556481Z",
     "shell.execute_reply.started": "2023-09-25T03:04:22.545586Z"
    }
   },
   "outputs": [
    {
     "data": {
      "text/plain": [
       "1    10413\n",
       "0    10387\n",
       "Name: label, dtype: int64"
      ]
     },
     "execution_count": 13,
     "metadata": {},
     "output_type": "execute_result"
    }
   ],
   "source": [
    "Y.value_counts()"
   ]
  },
  {
   "cell_type": "code",
   "execution_count": 14,
   "metadata": {
    "execution": {
     "iopub.execute_input": "2023-09-25T03:04:22.559118Z",
     "iopub.status.busy": "2023-09-25T03:04:22.558697Z",
     "iopub.status.idle": "2023-09-25T03:04:22.575222Z",
     "shell.execute_reply": "2023-09-25T03:04:22.574216Z",
     "shell.execute_reply.started": "2023-09-25T03:04:22.559074Z"
    }
   },
   "outputs": [
    {
     "data": {
      "text/plain": [
       "(20800, 5)"
      ]
     },
     "execution_count": 14,
     "metadata": {},
     "output_type": "execute_result"
    }
   ],
   "source": [
    "X.shape"
   ]
  },
  {
   "cell_type": "code",
   "execution_count": 15,
   "metadata": {
    "execution": {
     "iopub.execute_input": "2023-09-25T03:04:22.576992Z",
     "iopub.status.busy": "2023-09-25T03:04:22.576622Z",
     "iopub.status.idle": "2023-09-25T03:04:22.590927Z",
     "shell.execute_reply": "2023-09-25T03:04:22.590109Z",
     "shell.execute_reply.started": "2023-09-25T03:04:22.576938Z"
    }
   },
   "outputs": [
    {
     "data": {
      "text/plain": [
       "(20800,)"
      ]
     },
     "execution_count": 15,
     "metadata": {},
     "output_type": "execute_result"
    }
   ],
   "source": [
    "Y.shape"
   ]
  },
  {
   "cell_type": "code",
   "execution_count": 16,
   "metadata": {
    "_kg_hide-output": true,
    "execution": {
     "iopub.execute_input": "2023-09-25T03:04:22.592680Z",
     "iopub.status.busy": "2023-09-25T03:04:22.592265Z",
     "iopub.status.idle": "2023-09-25T03:04:22.614922Z",
     "shell.execute_reply": "2023-09-25T03:04:22.613560Z",
     "shell.execute_reply.started": "2023-09-25T03:04:22.592645Z"
    }
   },
   "outputs": [
    {
     "name": "stdout",
     "output_type": "stream",
     "text": [
      "          id                                              title  \\\n",
      "0          0  House Dem Aide: We Didn’t Even See Comey’s Let...   \n",
      "1          1  FLYNN: Hillary Clinton, Big Woman on Campus - ...   \n",
      "2          2                  Why the Truth Might Get You Fired   \n",
      "3          3  15 Civilians Killed In Single US Airstrike Hav...   \n",
      "4          4  Iranian woman jailed for fictional unpublished...   \n",
      "...      ...                                                ...   \n",
      "20795  20795  Rapper T.I.: Trump a ’Poster Child For White S...   \n",
      "20796  20796  N.F.L. Playoffs: Schedule, Matchups and Odds -...   \n",
      "20797  20797  Macy’s Is Said to Receive Takeover Approach by...   \n",
      "20798  20798  NATO, Russia To Hold Parallel Exercises In Bal...   \n",
      "20799  20799                          What Keeps the F-35 Alive   \n",
      "\n",
      "                                          author  \\\n",
      "0                                  Darrell Lucus   \n",
      "1                                Daniel J. Flynn   \n",
      "2                             Consortiumnews.com   \n",
      "3                                Jessica Purkiss   \n",
      "4                                 Howard Portnoy   \n",
      "...                                          ...   \n",
      "20795                              Jerome Hudson   \n",
      "20796                           Benjamin Hoffman   \n",
      "20797  Michael J. de la Merced and Rachel Abrams   \n",
      "20798                                Alex Ansary   \n",
      "20799                              David Swanson   \n",
      "\n",
      "                                                    text  \\\n",
      "0      House Dem Aide: We Didn’t Even See Comey’s Let...   \n",
      "1      Ever get the feeling your life circles the rou...   \n",
      "2      Why the Truth Might Get You Fired October 29, ...   \n",
      "3      Videos 15 Civilians Killed In Single US Airstr...   \n",
      "4      Print \\nAn Iranian woman has been sentenced to...   \n",
      "...                                                  ...   \n",
      "20795  Rapper T. I. unloaded on black celebrities who...   \n",
      "20796  When the Green Bay Packers lost to the Washing...   \n",
      "20797  The Macy’s of today grew from the union of sev...   \n",
      "20798  NATO, Russia To Hold Parallel Exercises In Bal...   \n",
      "20799    David Swanson is an author, activist, journa...   \n",
      "\n",
      "                                                 content  \n",
      "0      Darrell Lucus House Dem Aide: We Didn’t Even S...  \n",
      "1      Daniel J. Flynn FLYNN: Hillary Clinton, Big Wo...  \n",
      "2      Consortiumnews.com Why the Truth Might Get You...  \n",
      "3      Jessica Purkiss 15 Civilians Killed In Single ...  \n",
      "4      Howard Portnoy Iranian woman jailed for fictio...  \n",
      "...                                                  ...  \n",
      "20795  Jerome Hudson Rapper T.I.: Trump a ’Poster Chi...  \n",
      "20796  Benjamin Hoffman N.F.L. Playoffs: Schedule, Ma...  \n",
      "20797  Michael J. de la Merced and Rachel Abrams Macy...  \n",
      "20798  Alex Ansary NATO, Russia To Hold Parallel Exer...  \n",
      "20799            David Swanson What Keeps the F-35 Alive  \n",
      "\n",
      "[20800 rows x 5 columns]\n",
      "0        1\n",
      "1        0\n",
      "2        1\n",
      "3        1\n",
      "4        1\n",
      "        ..\n",
      "20795    0\n",
      "20796    0\n",
      "20797    0\n",
      "20798    1\n",
      "20799    1\n",
      "Name: label, Length: 20800, dtype: int64\n"
     ]
    }
   ],
   "source": [
    "print(X)\n",
    "print(Y)"
   ]
  },
  {
   "cell_type": "markdown",
   "metadata": {},
   "source": [
    "**STEMMING:**\n",
    "\n",
    "* A stemming algorithm is a process of linguistic normalisation, in which the variant forms of a word are reduced to a common form.\n",
    "* In simple words, Stemming is the process of reducing a word to its Root word.\n",
    "\n",
    "* **EXAMPLES:** \n",
    "\n",
    "  1. actor, actress, acting --> act\n",
    "  2. eating, eats, eaten --> eat"
   ]
  },
  {
   "cell_type": "code",
   "execution_count": 17,
   "metadata": {
    "execution": {
     "iopub.execute_input": "2023-09-25T03:04:22.617276Z",
     "iopub.status.busy": "2023-09-25T03:04:22.616905Z",
     "iopub.status.idle": "2023-09-25T03:04:22.628889Z",
     "shell.execute_reply": "2023-09-25T03:04:22.627699Z",
     "shell.execute_reply.started": "2023-09-25T03:04:22.617230Z"
    }
   },
   "outputs": [],
   "source": [
    "port_stem = PorterStemmer()"
   ]
  },
  {
   "cell_type": "code",
   "execution_count": 18,
   "metadata": {
    "execution": {
     "iopub.execute_input": "2023-09-25T03:04:22.631036Z",
     "iopub.status.busy": "2023-09-25T03:04:22.630589Z",
     "iopub.status.idle": "2023-09-25T03:04:22.646882Z",
     "shell.execute_reply": "2023-09-25T03:04:22.645939Z",
     "shell.execute_reply.started": "2023-09-25T03:04:22.630989Z"
    }
   },
   "outputs": [],
   "source": [
    "def stemming(content):\n",
    "    review = re.sub('[^a-zA-Z]',' ',content)\n",
    "    review = review.lower()\n",
    "    review = review.split()\n",
    "    review = [port_stem.stem(word) for word in review if not word in stopwords.words('english')]\n",
    "    review = ' '.join(review)\n",
    "    return review"
   ]
  },
  {
   "cell_type": "code",
   "execution_count": 19,
   "metadata": {
    "execution": {
     "iopub.execute_input": "2023-09-25T03:04:22.649054Z",
     "iopub.status.busy": "2023-09-25T03:04:22.648294Z",
     "iopub.status.idle": "2023-09-25T03:05:23.841125Z",
     "shell.execute_reply": "2023-09-25T03:05:23.839796Z",
     "shell.execute_reply.started": "2023-09-25T03:04:22.649013Z"
    }
   },
   "outputs": [],
   "source": [
    "news_data['content'] = news_data['content'].apply(stemming)"
   ]
  },
  {
   "cell_type": "code",
   "execution_count": 20,
   "metadata": {
    "execution": {
     "iopub.execute_input": "2023-09-25T03:05:23.843202Z",
     "iopub.status.busy": "2023-09-25T03:05:23.842795Z",
     "iopub.status.idle": "2023-09-25T03:05:23.853409Z",
     "shell.execute_reply": "2023-09-25T03:05:23.852491Z",
     "shell.execute_reply.started": "2023-09-25T03:05:23.843127Z"
    }
   },
   "outputs": [
    {
     "name": "stdout",
     "output_type": "stream",
     "text": [
      "0        darrel lucu hous dem aid even see comey letter...\n",
      "1        daniel j flynn flynn hillari clinton big woman...\n",
      "2                   consortiumnew com truth might get fire\n",
      "3        jessica purkiss civilian kill singl us airstri...\n",
      "4        howard portnoy iranian woman jail fiction unpu...\n",
      "                               ...                        \n",
      "20795    jerom hudson rapper trump poster child white s...\n",
      "20796    benjamin hoffman n f l playoff schedul matchup...\n",
      "20797    michael j de la merc rachel abram maci said re...\n",
      "20798    alex ansari nato russia hold parallel exercis ...\n",
      "20799                            david swanson keep f aliv\n",
      "Name: content, Length: 20800, dtype: object\n"
     ]
    }
   ],
   "source": [
    "print(news_data['content'])"
   ]
  },
  {
   "cell_type": "code",
   "execution_count": 21,
   "metadata": {
    "execution": {
     "iopub.execute_input": "2023-09-25T03:05:23.855104Z",
     "iopub.status.busy": "2023-09-25T03:05:23.854843Z",
     "iopub.status.idle": "2023-09-25T03:05:23.868908Z",
     "shell.execute_reply": "2023-09-25T03:05:23.868157Z",
     "shell.execute_reply.started": "2023-09-25T03:05:23.855072Z"
    }
   },
   "outputs": [],
   "source": [
    "#separating the data and label\n",
    "X = news_data['content'].values\n",
    "Y = news_data['label'].values"
   ]
  },
  {
   "cell_type": "code",
   "execution_count": 22,
   "metadata": {
    "execution": {
     "iopub.execute_input": "2023-09-25T03:05:23.870639Z",
     "iopub.status.busy": "2023-09-25T03:05:23.870198Z",
     "iopub.status.idle": "2023-09-25T03:05:23.885710Z",
     "shell.execute_reply": "2023-09-25T03:05:23.884464Z",
     "shell.execute_reply.started": "2023-09-25T03:05:23.870600Z"
    }
   },
   "outputs": [
    {
     "name": "stdout",
     "output_type": "stream",
     "text": [
      "['darrel lucu hous dem aid even see comey letter jason chaffetz tweet'\n",
      " 'daniel j flynn flynn hillari clinton big woman campu breitbart'\n",
      " 'consortiumnew com truth might get fire' ...\n",
      " 'michael j de la merc rachel abram maci said receiv takeov approach hudson bay new york time'\n",
      " 'alex ansari nato russia hold parallel exercis balkan'\n",
      " 'david swanson keep f aliv']\n"
     ]
    }
   ],
   "source": [
    "print(X)"
   ]
  },
  {
   "cell_type": "code",
   "execution_count": 23,
   "metadata": {
    "execution": {
     "iopub.execute_input": "2023-09-25T03:05:23.887569Z",
     "iopub.status.busy": "2023-09-25T03:05:23.887307Z",
     "iopub.status.idle": "2023-09-25T03:05:23.899789Z",
     "shell.execute_reply": "2023-09-25T03:05:23.898539Z",
     "shell.execute_reply.started": "2023-09-25T03:05:23.887537Z"
    }
   },
   "outputs": [
    {
     "name": "stdout",
     "output_type": "stream",
     "text": [
      "[1 0 1 ... 0 1 1]\n"
     ]
    }
   ],
   "source": [
    "print(Y)"
   ]
  },
  {
   "cell_type": "code",
   "execution_count": 24,
   "metadata": {
    "execution": {
     "iopub.execute_input": "2023-09-25T03:05:23.902031Z",
     "iopub.status.busy": "2023-09-25T03:05:23.901663Z",
     "iopub.status.idle": "2023-09-25T03:05:23.914291Z",
     "shell.execute_reply": "2023-09-25T03:05:23.913258Z",
     "shell.execute_reply.started": "2023-09-25T03:05:23.901977Z"
    }
   },
   "outputs": [
    {
     "data": {
      "text/plain": [
       "(20800,)"
      ]
     },
     "execution_count": 24,
     "metadata": {},
     "output_type": "execute_result"
    }
   ],
   "source": [
    "Y.shape"
   ]
  },
  {
   "cell_type": "markdown",
   "metadata": {},
   "source": [
    "**TF-IDF stands for “Term Frequency – Inverse Document Frequency ”**\n",
    "\n",
    "* TF-IDF is a numerical statistic which measures the importance of the word in a document.\n",
    "\n",
    "* Term Frequency : Number of time a word appears in a text document.\n",
    "* Inverse Document Frequency : Measure the word is a rare word or common word in a document."
   ]
  },
  {
   "cell_type": "code",
   "execution_count": 25,
   "metadata": {
    "execution": {
     "iopub.execute_input": "2023-09-25T03:05:23.915959Z",
     "iopub.status.busy": "2023-09-25T03:05:23.915680Z",
     "iopub.status.idle": "2023-09-25T03:05:24.720967Z",
     "shell.execute_reply": "2023-09-25T03:05:24.719962Z",
     "shell.execute_reply.started": "2023-09-25T03:05:23.915926Z"
    }
   },
   "outputs": [],
   "source": [
    "# converting the textual data to numerical data\n",
    "vectorizer = TfidfVectorizer()\n",
    "vectorizer.fit(X)\n",
    "X = vectorizer.transform(X)"
   ]
  },
  {
   "cell_type": "code",
   "execution_count": 26,
   "metadata": {
    "_kg_hide-output": true,
    "execution": {
     "iopub.execute_input": "2023-09-25T03:05:24.722956Z",
     "iopub.status.busy": "2023-09-25T03:05:24.722699Z",
     "iopub.status.idle": "2023-09-25T03:05:24.730546Z",
     "shell.execute_reply": "2023-09-25T03:05:24.729786Z",
     "shell.execute_reply.started": "2023-09-25T03:05:24.722924Z"
    }
   },
   "outputs": [
    {
     "name": "stdout",
     "output_type": "stream",
     "text": [
      "  (0, 15686)\t0.28485063562728646\n",
      "  (0, 13473)\t0.2565896679337957\n",
      "  (0, 8909)\t0.3635963806326075\n",
      "  (0, 8630)\t0.29212514087043684\n",
      "  (0, 7692)\t0.24785219520671603\n",
      "  (0, 7005)\t0.21874169089359144\n",
      "  (0, 4973)\t0.233316966909351\n",
      "  (0, 3792)\t0.2705332480845492\n",
      "  (0, 3600)\t0.3598939188262559\n",
      "  (0, 2959)\t0.2468450128533713\n",
      "  (0, 2483)\t0.3676519686797209\n",
      "  (0, 267)\t0.27010124977708766\n",
      "  (1, 16799)\t0.30071745655510157\n",
      "  (1, 6816)\t0.1904660198296849\n",
      "  (1, 5503)\t0.7143299355715573\n",
      "  (1, 3568)\t0.26373768806048464\n",
      "  (1, 2813)\t0.19094574062359204\n",
      "  (1, 2223)\t0.3827320386859759\n",
      "  (1, 1894)\t0.15521974226349364\n",
      "  (1, 1497)\t0.2939891562094648\n",
      "  (2, 15611)\t0.41544962664721613\n",
      "  (2, 9620)\t0.49351492943649944\n",
      "  (2, 5968)\t0.3474613386728292\n",
      "  (2, 5389)\t0.3866530551182615\n",
      "  (2, 3103)\t0.46097489583229645\n",
      "  :\t:\n",
      "  (20797, 13122)\t0.2482526352197606\n",
      "  (20797, 12344)\t0.27263457663336677\n",
      "  (20797, 12138)\t0.24778257724396507\n",
      "  (20797, 10306)\t0.08038079000566466\n",
      "  (20797, 9588)\t0.174553480255222\n",
      "  (20797, 9518)\t0.2954204003420313\n",
      "  (20797, 8988)\t0.36160868928090795\n",
      "  (20797, 8364)\t0.22322585870464118\n",
      "  (20797, 7042)\t0.21799048897828688\n",
      "  (20797, 3643)\t0.21155500613623743\n",
      "  (20797, 1287)\t0.33538056804139865\n",
      "  (20797, 699)\t0.30685846079762347\n",
      "  (20797, 43)\t0.29710241860700626\n",
      "  (20798, 13046)\t0.22363267488270608\n",
      "  (20798, 11052)\t0.4460515589182236\n",
      "  (20798, 10177)\t0.3192496370187028\n",
      "  (20798, 6889)\t0.32496285694299426\n",
      "  (20798, 5032)\t0.4083701450239529\n",
      "  (20798, 1125)\t0.4460515589182236\n",
      "  (20798, 588)\t0.3112141524638974\n",
      "  (20798, 350)\t0.28446937819072576\n",
      "  (20799, 14852)\t0.5677577267055112\n",
      "  (20799, 8036)\t0.45983893273780013\n",
      "  (20799, 3623)\t0.37927626273066584\n",
      "  (20799, 377)\t0.5677577267055112\n"
     ]
    }
   ],
   "source": [
    "print(X)"
   ]
  },
  {
   "cell_type": "markdown",
   "metadata": {},
   "source": [
    "**SPLITTING THE DATASET INTO TRAINING DATA & TEST DATA:**"
   ]
  },
  {
   "cell_type": "code",
   "execution_count": 27,
   "metadata": {
    "execution": {
     "iopub.execute_input": "2023-09-25T03:05:24.732417Z",
     "iopub.status.busy": "2023-09-25T03:05:24.732034Z",
     "iopub.status.idle": "2023-09-25T03:05:24.759696Z",
     "shell.execute_reply": "2023-09-25T03:05:24.758645Z",
     "shell.execute_reply.started": "2023-09-25T03:05:24.732364Z"
    }
   },
   "outputs": [],
   "source": [
    "X_train, X_test, Y_train, Y_test = train_test_split(X, Y, test_size = 0.2, stratify=Y, random_state=2)"
   ]
  },
  {
   "cell_type": "markdown",
   "metadata": {},
   "source": [
    "**LOGESTIC REGRESSION:**\n",
    "\n",
    "Logistic regression is a statistical analysis method to predict a binary outcome, such as yes or no, based on prior observations of a data set. A logistic regression model predicts a dependent data variable by analyzing the relationship between one or more existing independent variables."
   ]
  },
  {
   "cell_type": "code",
   "execution_count": 28,
   "metadata": {
    "execution": {
     "iopub.execute_input": "2023-09-25T03:05:24.764984Z",
     "iopub.status.busy": "2023-09-25T03:05:24.764681Z",
     "iopub.status.idle": "2023-09-25T03:05:24.769633Z",
     "shell.execute_reply": "2023-09-25T03:05:24.768612Z",
     "shell.execute_reply.started": "2023-09-25T03:05:24.764947Z"
    }
   },
   "outputs": [],
   "source": [
    "model = LogisticRegression()"
   ]
  },
  {
   "cell_type": "code",
   "execution_count": 29,
   "metadata": {
    "execution": {
     "iopub.execute_input": "2023-09-25T03:05:24.771373Z",
     "iopub.status.busy": "2023-09-25T03:05:24.771062Z",
     "iopub.status.idle": "2023-09-25T03:05:25.455153Z",
     "shell.execute_reply": "2023-09-25T03:05:25.453854Z",
     "shell.execute_reply.started": "2023-09-25T03:05:24.771329Z"
    }
   },
   "outputs": [
    {
     "data": {
      "text/plain": [
       "LogisticRegression()"
      ]
     },
     "execution_count": 29,
     "metadata": {},
     "output_type": "execute_result"
    }
   ],
   "source": [
    "model.fit(X_train, Y_train)"
   ]
  },
  {
   "cell_type": "code",
   "execution_count": 30,
   "metadata": {
    "execution": {
     "iopub.execute_input": "2023-09-25T03:05:25.458668Z",
     "iopub.status.busy": "2023-09-25T03:05:25.457401Z",
     "iopub.status.idle": "2023-09-25T03:05:25.479007Z",
     "shell.execute_reply": "2023-09-25T03:05:25.477374Z",
     "shell.execute_reply.started": "2023-09-25T03:05:25.458591Z"
    }
   },
   "outputs": [],
   "source": [
    "# accuracy score on the training data\n",
    "X_train_prediction = model.predict(X_train)\n",
    "training_data_accuracy = accuracy_score(X_train_prediction, Y_train)"
   ]
  },
  {
   "cell_type": "code",
   "execution_count": 31,
   "metadata": {
    "execution": {
     "iopub.execute_input": "2023-09-25T03:05:25.483668Z",
     "iopub.status.busy": "2023-09-25T03:05:25.481586Z",
     "iopub.status.idle": "2023-09-25T03:05:25.493876Z",
     "shell.execute_reply": "2023-09-25T03:05:25.492287Z",
     "shell.execute_reply.started": "2023-09-25T03:05:25.483583Z"
    }
   },
   "outputs": [
    {
     "name": "stdout",
     "output_type": "stream",
     "text": [
      "Accuracy score of the training data :  0.9865985576923076\n"
     ]
    }
   ],
   "source": [
    "print('Accuracy score of the training data : ', training_data_accuracy)"
   ]
  },
  {
   "cell_type": "code",
   "execution_count": 32,
   "metadata": {
    "execution": {
     "iopub.execute_input": "2023-09-25T03:05:25.497721Z",
     "iopub.status.busy": "2023-09-25T03:05:25.495986Z",
     "iopub.status.idle": "2023-09-25T03:05:25.515545Z",
     "shell.execute_reply": "2023-09-25T03:05:25.513509Z",
     "shell.execute_reply.started": "2023-09-25T03:05:25.497648Z"
    }
   },
   "outputs": [],
   "source": [
    "# accuracy score on the test data\n",
    "X_test_prediction = model.predict(X_test)\n",
    "test_data_accuracy = accuracy_score(X_test_prediction, Y_test)"
   ]
  },
  {
   "cell_type": "code",
   "execution_count": 33,
   "metadata": {
    "execution": {
     "iopub.execute_input": "2023-09-25T03:05:25.522268Z",
     "iopub.status.busy": "2023-09-25T03:05:25.520120Z",
     "iopub.status.idle": "2023-09-25T03:05:25.537408Z",
     "shell.execute_reply": "2023-09-25T03:05:25.534277Z",
     "shell.execute_reply.started": "2023-09-25T03:05:25.522180Z"
    }
   },
   "outputs": [
    {
     "name": "stdout",
     "output_type": "stream",
     "text": [
      "Accuracy score of the test data :  0.9790865384615385\n"
     ]
    }
   ],
   "source": [
    "print('Accuracy score of the test data : ', test_data_accuracy)"
   ]
  },
  {
   "cell_type": "markdown",
   "metadata": {},
   "source": [
    "**CONFUSION MATRIX:**\n",
    "\n",
    "* The confusion matrix is a 2 dimensional array comparing predicted category labels to the true label. \n",
    "\n"
   ]
  },
  {
   "cell_type": "code",
   "execution_count": 34,
   "metadata": {
    "execution": {
     "iopub.execute_input": "2023-09-25T03:05:25.544002Z",
     "iopub.status.busy": "2023-09-25T03:05:25.542274Z",
     "iopub.status.idle": "2023-09-25T03:05:25.569976Z",
     "shell.execute_reply": "2023-09-25T03:05:25.569193Z",
     "shell.execute_reply.started": "2023-09-25T03:05:25.543919Z"
    }
   },
   "outputs": [],
   "source": [
    "import matplotlib.pyplot as plt\n",
    "\n",
    "def plot_confusion_matrix(cm, classes,\n",
    "                          normalize=False,\n",
    "                          title='Confusion matrix',\n",
    "                          cmap=plt.cm.Purples):\n",
    "    plt.imshow(cm, interpolation='nearest', cmap=cmap)\n",
    "    plt.title(title)\n",
    "    plt.colorbar()\n",
    "    tick_marks = np.arange(len(classes))\n",
    "    plt.xticks(tick_marks, classes, rotation=45)\n",
    "    plt.yticks(tick_marks, classes)\n",
    "\n",
    "    if normalize:\n",
    "        cm = cm.astype('float') / cm.sum(axis=1)[:, np.newaxis]\n",
    "        print(\"Normalized confusion matrix\")\n",
    "    else:\n",
    "        print('Confusion matrix, without normalization')\n",
    "\n",
    "    thresh = cm.max() / 2.\n",
    "    for i, j in itertools.product(range(cm.shape[0]), range(cm.shape[1])):\n",
    "        plt.text(j, i, cm[i, j],\n",
    "                 horizontalalignment=\"center\",\n",
    "                 color=\"white\" if cm[i, j] > thresh else \"black\")\n",
    "\n",
    "    plt.tight_layout()\n",
    "    plt.ylabel('True label')\n",
    "    plt.xlabel('Predicted label')\n",
    "\n",
    "\n",
    "        \n",
    "\n",
    "    \n",
    "    "
   ]
  },
  {
   "cell_type": "code",
   "execution_count": 35,
   "metadata": {
    "execution": {
     "iopub.execute_input": "2023-09-25T03:05:25.572127Z",
     "iopub.status.busy": "2023-09-25T03:05:25.571586Z",
     "iopub.status.idle": "2023-09-25T03:05:25.595124Z",
     "shell.execute_reply": "2023-09-25T03:05:25.594119Z",
     "shell.execute_reply.started": "2023-09-25T03:05:25.572086Z"
    }
   },
   "outputs": [],
   "source": [
    "X1_train, X1_test, Y1_train, Y1_test = train_test_split(X, Y, test_size=0.33, random_state=42)"
   ]
  },
  {
   "cell_type": "markdown",
   "metadata": {},
   "source": [
    "**CLASSIFICATION MODEL : MULTINOMIAL NAIVE BAYES**\n",
    "\n",
    "* Multinomial Naive Bayes algorithm is a probabilistic learning method that is mostly used in Natural Language Processing (NLP)\n",
    "\n",
    "* Multinomial Naïve Bayes uses term frequency i.e. the number of times a given term appears in a document. Term frequency is often normalized by dividing the raw term frequency by the document length\n"
   ]
  },
  {
   "cell_type": "code",
   "execution_count": 36,
   "metadata": {
    "execution": {
     "iopub.execute_input": "2023-09-25T03:05:25.597148Z",
     "iopub.status.busy": "2023-09-25T03:05:25.596662Z",
     "iopub.status.idle": "2023-09-25T03:05:25.609016Z",
     "shell.execute_reply": "2023-09-25T03:05:25.608235Z",
     "shell.execute_reply.started": "2023-09-25T03:05:25.597109Z"
    }
   },
   "outputs": [],
   "source": [
    "#let's implement the model : Multinomial Naive Bayes\n",
    "from sklearn.naive_bayes import MultinomialNB\n",
    "classifier=MultinomialNB()"
   ]
  },
  {
   "cell_type": "code",
   "execution_count": 37,
   "metadata": {
    "execution": {
     "iopub.execute_input": "2023-09-25T03:05:25.610983Z",
     "iopub.status.busy": "2023-09-25T03:05:25.610417Z",
     "iopub.status.idle": "2023-09-25T03:05:25.909925Z",
     "shell.execute_reply": "2023-09-25T03:05:25.908756Z",
     "shell.execute_reply.started": "2023-09-25T03:05:25.610943Z"
    }
   },
   "outputs": [
    {
     "name": "stdout",
     "output_type": "stream",
     "text": [
      "accuracy:   0.950\n",
      "Confusion matrix, without normalization\n"
     ]
    },
    {
     "data": {
      "image/png": "[encoded data removed]",
      "text/plain": [
       "<Figure size 432x288 with 2 Axes>"
      ]
     },
     "metadata": {
      "needs_background": "light"
     },
     "output_type": "display_data"
    }
   ],
   "source": [
    "from sklearn import metrics\n",
    "import numpy as np\n",
    "import itertools\n",
    "\n",
    "classifier.fit(X1_train, Y1_train)\n",
    "prediction1 = classifier.predict(X1_test)\n",
    "score = metrics.accuracy_score(Y1_test, prediction1)\n",
    "print(\"accuracy:   %0.3f\" % score)\n",
    "cm1 = metrics.confusion_matrix(Y1_test, prediction1)\n",
    "plot_confusion_matrix(cm1, classes=['FAKE', 'REAL'])"
   ]
  },
  {
   "cell_type": "markdown",
   "metadata": {},
   "source": [
    "**CLASSIFICATION MODEL : PASSIVE AGGRESSIVE CLASSIFIER**\n",
    "\n",
    "* Passive Aggressive Classifier works by responding as passive for correct classifications and responding as aggressive for any miscalculation."
   ]
  },
  {
   "cell_type": "code",
   "execution_count": 38,
   "metadata": {
    "execution": {
     "iopub.execute_input": "2023-09-25T03:05:25.911852Z",
     "iopub.status.busy": "2023-09-25T03:05:25.911498Z",
     "iopub.status.idle": "2023-09-25T03:05:25.923900Z",
     "shell.execute_reply": "2023-09-25T03:05:25.922894Z",
     "shell.execute_reply.started": "2023-09-25T03:05:25.911800Z"
    }
   },
   "outputs": [],
   "source": [
    "X2_train, X2_test, Y2_train, Y2_test = train_test_split(X, Y, test_size=0.33, random_state=42)"
   ]
  },
  {
   "cell_type": "code",
   "execution_count": 39,
   "metadata": {
    "execution": {
     "iopub.execute_input": "2023-09-25T03:05:25.925569Z",
     "iopub.status.busy": "2023-09-25T03:05:25.925277Z",
     "iopub.status.idle": "2023-09-25T03:05:26.380314Z",
     "shell.execute_reply": "2023-09-25T03:05:26.379210Z",
     "shell.execute_reply.started": "2023-09-25T03:05:25.925508Z"
    }
   },
   "outputs": [
    {
     "name": "stdout",
     "output_type": "stream",
     "text": [
      "accuracy:   0.990\n",
      "Confusion matrix, without normalization\n"
     ]
    },
    {
     "data": {
      "image/png": "[encoded data removed]",
      "text/plain": [
       "<Figure size 432x288 with 2 Axes>"
      ]
     },
     "metadata": {
      "needs_background": "light"
     },
     "output_type": "display_data"
    }
   ],
   "source": [
    "#lets implemet the algorithm : Passive Aggressive Classifier\n",
    "from sklearn.linear_model import PassiveAggressiveClassifier\n",
    "linear_clf = PassiveAggressiveClassifier(max_iter=50)\n",
    "\n",
    "linear_clf.fit(X2_train, Y2_train)\n",
    "prediction2 = linear_clf.predict(X2_test)\n",
    "score = metrics.accuracy_score(Y2_test, prediction2)\n",
    "print(\"accuracy:   %0.3f\" % score)\n",
    "cm2 = metrics.confusion_matrix(Y2_test, prediction2)\n",
    "plot_confusion_matrix(cm2, classes=['FAKE Data', 'REAL Data'])"
   ]
  },
  {
   "cell_type": "markdown",
   "metadata": {},
   "source": [
    "**BUILDING A PREDICTIVE SYSTEM:**"
   ]
  },
  {
   "cell_type": "markdown",
   "metadata": {},
   "source": [
    "Building a predictive system inorder to find that the inital word in the dataset is real or fake using LogisticRegression model: "
   ]
  },
  {
   "cell_type": "code",
   "execution_count": 40,
   "metadata": {
    "execution": {
     "iopub.execute_input": "2023-09-25T03:05:26.382199Z",
     "iopub.status.busy": "2023-09-25T03:05:26.381828Z",
     "iopub.status.idle": "2023-09-25T03:05:26.390285Z",
     "shell.execute_reply": "2023-09-25T03:05:26.389372Z",
     "shell.execute_reply.started": "2023-09-25T03:05:26.382130Z"
    }
   },
   "outputs": [
    {
     "name": "stdout",
     "output_type": "stream",
     "text": [
      "[1]\n",
      "The news is Fake\n"
     ]
    }
   ],
   "source": [
    "X_new = X_test[0]\n",
    "\n",
    "prediction = model.predict(X_new)\n",
    "print(prediction)\n",
    "\n",
    "if (prediction[0]==0):\n",
    "  print('The news is Real')\n",
    "else:\n",
    "  print('The news is Fake')"
   ]
  },
  {
   "cell_type": "code",
   "execution_count": 41,
   "metadata": {
    "execution": {
     "iopub.execute_input": "2023-09-25T03:05:26.392121Z",
     "iopub.status.busy": "2023-09-25T03:05:26.391795Z",
     "iopub.status.idle": "2023-09-25T03:05:26.405294Z",
     "shell.execute_reply": "2023-09-25T03:05:26.404228Z",
     "shell.execute_reply.started": "2023-09-25T03:05:26.392076Z"
    }
   },
   "outputs": [
    {
     "name": "stdout",
     "output_type": "stream",
     "text": [
      "1\n"
     ]
    }
   ],
   "source": [
    "print(Y_test[0])"
   ]
  },
  {
   "cell_type": "markdown",
   "metadata": {},
   "source": [
    "Building a predictive system inorder to find that the inital word in the dataset is real or fake using Multinomial Naive Bayes model: "
   ]
  },
  {
   "cell_type": "code",
   "execution_count": 42,
   "metadata": {
    "execution": {
     "iopub.execute_input": "2023-09-25T03:05:26.406990Z",
     "iopub.status.busy": "2023-09-25T03:05:26.406661Z",
     "iopub.status.idle": "2023-09-25T03:05:26.419350Z",
     "shell.execute_reply": "2023-09-25T03:05:26.418416Z",
     "shell.execute_reply.started": "2023-09-25T03:05:26.406942Z"
    }
   },
   "outputs": [
    {
     "name": "stdout",
     "output_type": "stream",
     "text": [
      "[1]\n",
      "The news is Fake\n"
     ]
    }
   ],
   "source": [
    "X1_new = X1_test[0]\n",
    "\n",
    "prediction = model.predict(X1_new)\n",
    "print(prediction)\n",
    "\n",
    "if (prediction[0]==0):\n",
    "  print('The news is Real')\n",
    "else:\n",
    "  print('The news is Fake')"
   ]
  },
  {
   "cell_type": "code",
   "execution_count": 43,
   "metadata": {
    "execution": {
     "iopub.execute_input": "2023-09-25T03:05:26.420980Z",
     "iopub.status.busy": "2023-09-25T03:05:26.420663Z",
     "iopub.status.idle": "2023-09-25T03:05:26.433653Z",
     "shell.execute_reply": "2023-09-25T03:05:26.432755Z",
     "shell.execute_reply.started": "2023-09-25T03:05:26.420943Z"
    }
   },
   "outputs": [
    {
     "name": "stdout",
     "output_type": "stream",
     "text": [
      "1\n"
     ]
    }
   ],
   "source": [
    "print(Y1_test[0])"
   ]
  },
  {
   "cell_type": "markdown",
   "metadata": {},
   "source": [
    "Building a predictive system inorder to find that the inital word in the dataset is real or fake using Passive Aggressive Classifier: "
   ]
  },
  {
   "cell_type": "code",
   "execution_count": 44,
   "metadata": {
    "execution": {
     "iopub.execute_input": "2023-09-25T03:05:26.435484Z",
     "iopub.status.busy": "2023-09-25T03:05:26.435070Z",
     "iopub.status.idle": "2023-09-25T03:05:26.448968Z",
     "shell.execute_reply": "2023-09-25T03:05:26.447978Z",
     "shell.execute_reply.started": "2023-09-25T03:05:26.435445Z"
    }
   },
   "outputs": [
    {
     "name": "stdout",
     "output_type": "stream",
     "text": [
      "[1]\n",
      "The news is Fake\n"
     ]
    }
   ],
   "source": [
    "X2_new = X2_test[0]\n",
    "\n",
    "prediction = model.predict(X2_new)\n",
    "print(prediction)\n",
    "\n",
    "if (prediction[0]==0):\n",
    "  print('The news is Real')\n",
    "else:\n",
    "  print('The news is Fake')"
   ]
  },
  {
   "cell_type": "code",
   "execution_count": 45,
   "metadata": {
    "execution": {
     "iopub.execute_input": "2023-09-25T03:05:26.450501Z",
     "iopub.status.busy": "2023-09-25T03:05:26.450078Z",
     "iopub.status.idle": "2023-09-25T03:05:26.463275Z",
     "shell.execute_reply": "2023-09-25T03:05:26.462478Z",
     "shell.execute_reply.started": "2023-09-25T03:05:26.450466Z"
    }
   },
   "outputs": [
    {
     "name": "stdout",
     "output_type": "stream",
     "text": [
      "1\n"
     ]
    }
   ],
   "source": [
    "print(Y2_test[0])"
   ]
  },
  {
   "cell_type": "markdown",
   "metadata": {},
   "source": [
    "**CLASSIFICATION REPORT:**\n",
    "\n",
    "* A Classification report is used to measure the quality of predictions from a classification algorithm.\n",
    "\n",
    "* It is used to show the precision, recall, F1 Score, and support of your trained classification model."
   ]
  },
  {
   "cell_type": "markdown",
   "metadata": {},
   "source": [
    "Classification report for logistic regression model:"
   ]
  },
  {
   "cell_type": "code",
   "execution_count": 46,
   "metadata": {
    "execution": {
     "iopub.execute_input": "2023-09-25T03:05:26.465244Z",
     "iopub.status.busy": "2023-09-25T03:05:26.464726Z",
     "iopub.status.idle": "2023-09-25T03:05:26.487150Z",
     "shell.execute_reply": "2023-09-25T03:05:26.485943Z",
     "shell.execute_reply.started": "2023-09-25T03:05:26.465209Z"
    }
   },
   "outputs": [
    {
     "name": "stdout",
     "output_type": "stream",
     "text": [
      "              precision    recall  f1-score   support\n",
      "\n",
      "           0       0.99      0.96      0.98      2077\n",
      "           1       0.97      0.99      0.98      2083\n",
      "\n",
      "    accuracy                           0.98      4160\n",
      "   macro avg       0.98      0.98      0.98      4160\n",
      "weighted avg       0.98      0.98      0.98      4160\n",
      "\n"
     ]
    }
   ],
   "source": [
    "from sklearn.metrics import classification_report\n",
    "print(classification_report(Y_test, X_test_prediction))"
   ]
  },
  {
   "cell_type": "code",
   "execution_count": 47,
   "metadata": {
    "execution": {
     "iopub.execute_input": "2023-09-25T03:05:26.488937Z",
     "iopub.status.busy": "2023-09-25T03:05:26.488662Z",
     "iopub.status.idle": "2023-09-25T03:05:26.512124Z",
     "shell.execute_reply": "2023-09-25T03:05:26.511399Z",
     "shell.execute_reply.started": "2023-09-25T03:05:26.488901Z"
    }
   },
   "outputs": [
    {
     "name": "stdout",
     "output_type": "stream",
     "text": [
      "              precision    recall  f1-score   support\n",
      "\n",
      "           0       0.91      1.00      0.95      3449\n",
      "           1       0.99      0.90      0.95      3415\n",
      "\n",
      "    accuracy                           0.95      6864\n",
      "   macro avg       0.95      0.95      0.95      6864\n",
      "weighted avg       0.95      0.95      0.95      6864\n",
      "\n"
     ]
    }
   ],
   "source": [
    "from sklearn.metrics import classification_report\n",
    "print(classification_report(Y1_test,prediction1))"
   ]
  },
  {
   "cell_type": "code",
   "execution_count": 48,
   "metadata": {
    "execution": {
     "iopub.execute_input": "2023-09-25T03:05:26.513951Z",
     "iopub.status.busy": "2023-09-25T03:05:26.513566Z",
     "iopub.status.idle": "2023-09-25T03:05:26.535715Z",
     "shell.execute_reply": "2023-09-25T03:05:26.534671Z",
     "shell.execute_reply.started": "2023-09-25T03:05:26.513918Z"
    }
   },
   "outputs": [
    {
     "name": "stdout",
     "output_type": "stream",
     "text": [
      "              precision    recall  f1-score   support\n",
      "\n",
      "           0       0.99      0.99      0.99      3449\n",
      "           1       0.99      0.99      0.99      3415\n",
      "\n",
      "    accuracy                           0.99      6864\n",
      "   macro avg       0.99      0.99      0.99      6864\n",
      "weighted avg       0.99      0.99      0.99      6864\n",
      "\n"
     ]
    }
   ],
   "source": [
    "from sklearn.metrics import classification_report\n",
    "print(classification_report(Y2_test,prediction2))"
   ]
  },
  {
   "cell_type": "markdown",
   "metadata": {},
   "source": [
    "**MODEL COMPARISON**\n",
    "\n",
    "Hence, in this dataset we can observe that\n",
    "\n",
    "* Logistic Regression : Accuracy is 0.98\n",
    "\n",
    "* Multinomial Naive Bayes : Accuracy is 0.95\n",
    "\n",
    "* Passive Aggressive Classifier : Accuracy is 0.99"
   ]
  }
 ],
 "metadata": {
  "kernelspec": {
   "display_name": "Python 3",
   "language": "python",
   "name": "python3"
  },
  "language_info": {
   "codemirror_mode": {
    "name": "ipython",
    "version": 3
   },
   "file_extension": ".py",
   "mimetype": "text/x-python",
   "name": "python",
   "nbconvert_exporter": "python",
   "pygments_lexer": "ipython3",
   "version": "3.8.8"
  }
 },
 "nbformat": 4,
 "nbformat_minor": 4
}
